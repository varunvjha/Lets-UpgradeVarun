{
 "cells": [
  {
   "cell_type": "markdown",
   "metadata": {},
   "source": [
    "Question 1 //Use the dictionary, port1 = {21: \"FTP\", 22:\"SSH\", 23: \"telnet\", 80: \"http\"}, and make a new dictionary in which keys become values and values become keys, as shown: Port2 = {“FTP\":21, \"SSH\":22, “telnet\":23,\n",
    "\"http\": 80}//"
   ]
  },
  {
   "cell_type": "code",
   "execution_count": 2,
   "metadata": {},
   "outputs": [
    {
     "name": "stdout",
     "output_type": "stream",
     "text": [
      "Original dictionary is : \n",
      "{'FTP': 21, 'SSH': 22, 'telnet': 23, 'http': 80}\n",
      "\n",
      "Dictionary after swapping is :  \n",
      "keys: values\n",
      "21  :   FTP\n",
      "22  :   SSH\n",
      "23  :   telnet\n",
      "80  :   http\n"
     ]
    }
   ],
   "source": [
    "port1 = {'FTP': 21, 'SSH': 22, 'telnet': 23, 'http': 80} \n",
    "  \n",
    "port2 = dict([(value, key) for key, value in port1.items()]) \n",
    "     \n",
    "print (\"Original dictionary is : \") \n",
    "print(port1)  \n",
    "  \n",
    "print() \n",
    "   \n",
    "print (\"Dictionary after swapping is :  \")  \n",
    "print(\"keys: values\") \n",
    "for i in port2: \n",
    "    print(i, \" :  \", port2[i])"
   ]
  },
  {
   "cell_type": "markdown",
   "metadata": {},
   "source": [
    "Question 2 //Take a list of tuple as shown below.\n",
    "[(1,2), (3,4), (5,6),(4,5)]\n",
    "Make a new list which contains sum of number of tuples. \n",
    "For example \n",
    "Input \n",
    "[(1,2), (3,4), (5,6)]\n",
    "Out put \n",
    "[3, 7, 11]//"
   ]
  },
  {
   "cell_type": "code",
   "execution_count": 3,
   "metadata": {},
   "outputs": [
    {
     "name": "stdout",
     "output_type": "stream",
     "text": [
      "The original list : [(1, 3), (5, 6, 7), (2, 6)]\n",
      "The summation of all tuple elements are : 30\n"
     ]
    }
   ],
   "source": [
    "list1 = [(1, 3), (5, 6, 7), (2, 6)] \n",
    "   \n",
    "print(\"The original list : \" + str(list1)) \n",
    "   \n",
    "res = sum(map(sum, list1)) \n",
    "   \n",
    "print(\"The summation of all tuple elements are : \" + str(res))"
   ]
  },
  {
   "cell_type": "markdown",
   "metadata": {},
   "source": [
    "Question 3 //Take a list as shown below \n",
    "[(1,2,3), [1,2], ['a','hit','less']]\n",
    "The List contains tuple and lists. Make the elements of inner lists and tuples to outer list"
   ]
  },
  {
   "cell_type": "code",
   "execution_count": 10,
   "metadata": {},
   "outputs": [
    {
     "name": "stdout",
     "output_type": "stream",
     "text": [
      "The original list 1 : [[1, 2, 3], [1, 2], [2]]\n",
      "The original list 2 : [['a', 'hit', 'less'], ['a', 'b'], ['c']]\n",
      "The paired list of tuple is : [(1, 'a'), (2, 'hit'), (3, 'less'), (1, 'a'), (2, 'b'), (2, 'c')]\n"
     ]
    }
   ],
   "source": [
    "list1 = [[1, 2, 3], [1, 2], [2]] \n",
    "list2 = [['a', 'hit', 'less'], ['a', 'b'], ['c']] \n",
    "   \n",
    "print(\"The original list 1 : \" + str(list1)) \n",
    "print(\"The original list 2 : \" + str(list2)) \n",
    " \n",
    "res = [(u, v) for x, y in zip(list1, list2) \n",
    "                               for u, v in zip(x, y)] \n",
    "  \n",
    "print(\"The paired list of tuple is : \" + str(res))"
   ]
  },
  {
   "cell_type": "code",
   "execution_count": null,
   "metadata": {},
   "outputs": [],
   "source": []
  },
  {
   "cell_type": "code",
   "execution_count": null,
   "metadata": {},
   "outputs": [],
   "source": []
  }
 ],
 "metadata": {
  "kernelspec": {
   "display_name": "Python 3",
   "language": "python",
   "name": "python3"
  },
  "language_info": {
   "codemirror_mode": {
    "name": "ipython",
    "version": 3
   },
   "file_extension": ".py",
   "mimetype": "text/x-python",
   "name": "python",
   "nbconvert_exporter": "python",
   "pygments_lexer": "ipython3",
   "version": "3.7.6"
  }
 },
 "nbformat": 4,
 "nbformat_minor": 4
}
