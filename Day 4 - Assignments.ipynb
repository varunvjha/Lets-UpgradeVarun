{
 "cells": [
  {
   "cell_type": "markdown",
   "metadata": {},
   "source": [
    "Assignment 1 - To find all occurences of \"we\" in the given string"
   ]
  },
  {
   "cell_type": "code",
   "execution_count": 8,
   "metadata": {},
   "outputs": [
    {
     "name": "stdout",
     "output_type": "stream",
     "text": [
      "5\n",
      "14\n",
      "25\n",
      "No of occurences = 3\n"
     ]
    }
   ],
   "source": [
    "str1 = \"what we think we become; we are python programmers\"\n",
    "sub = \"we\"\n",
    "c=0\n",
    "count=0\n",
    "while(c<len(str1)):\n",
    "    if str1[c:c+len(sub)] == sub:\n",
    "        print(c)\n",
    "        count=count+1\n",
    "    c=c+1\n",
    "print(\"No of occurences =\",count)"
   ]
  },
  {
   "cell_type": "markdown",
   "metadata": {},
   "source": [
    "Assignment 2 - Apply islower() and isupper() with different strings"
   ]
  },
  {
   "cell_type": "code",
   "execution_count": 10,
   "metadata": {},
   "outputs": [
    {
     "name": "stdout",
     "output_type": "stream",
     "text": [
      "Enter a string 123a\n",
      "True\n",
      "False\n"
     ]
    }
   ],
   "source": [
    "s = input(\"Enter a string \")\n",
    "print(s.islower())\n",
    "print(s.isupper())"
   ]
  },
  {
   "cell_type": "code",
   "execution_count": 11,
   "metadata": {},
   "outputs": [
    {
     "name": "stdout",
     "output_type": "stream",
     "text": [
      "Enter a string AB588\n",
      "False\n",
      "True\n"
     ]
    }
   ],
   "source": [
    "s = input(\"Enter a string \")\n",
    "print(s.islower())\n",
    "print(s.isupper())"
   ]
  },
  {
   "cell_type": "code",
   "execution_count": 12,
   "metadata": {},
   "outputs": [
    {
     "name": "stdout",
     "output_type": "stream",
     "text": [
      "Enter a string dijncASj\n",
      "False\n",
      "False\n"
     ]
    }
   ],
   "source": [
    "s = input(\"Enter a string \")\n",
    "print(s.islower())\n",
    "print(s.isupper())"
   ]
  },
  {
   "cell_type": "code",
   "execution_count": 13,
   "metadata": {},
   "outputs": [
    {
     "name": "stdout",
     "output_type": "stream",
     "text": [
      "Enter a string Abc@\n",
      "False\n",
      "False\n"
     ]
    }
   ],
   "source": [
    "s = input(\"Enter a string \")\n",
    "print(s.islower())\n",
    "print(s.isupper())"
   ]
  },
  {
   "cell_type": "code",
   "execution_count": 14,
   "metadata": {},
   "outputs": [
    {
     "name": "stdout",
     "output_type": "stream",
     "text": [
      "Enter a string idodnd$#\n",
      "True\n",
      "False\n"
     ]
    }
   ],
   "source": [
    "s = input(\"Enter a string \")\n",
    "print(s.islower())\n",
    "print(s.isupper())"
   ]
  },
  {
   "cell_type": "code",
   "execution_count": 15,
   "metadata": {},
   "outputs": [
    {
     "name": "stdout",
     "output_type": "stream",
     "text": [
      "Enter a string AHBCHBC!@#\n",
      "False\n",
      "True\n"
     ]
    }
   ],
   "source": [
    "s = input(\"Enter a string \")\n",
    "print(s.islower())\n",
    "print(s.isupper())"
   ]
  },
  {
   "cell_type": "code",
   "execution_count": 16,
   "metadata": {},
   "outputs": [
    {
     "name": "stdout",
     "output_type": "stream",
     "text": [
      "Enter a string OP89*(\n",
      "False\n",
      "True\n"
     ]
    }
   ],
   "source": [
    "s = input(\"Enter a string \")\n",
    "print(s.islower())\n",
    "print(s.isupper())"
   ]
  },
  {
   "cell_type": "code",
   "execution_count": null,
   "metadata": {},
   "outputs": [],
   "source": []
  }
 ],
 "metadata": {
  "kernelspec": {
   "display_name": "Python 3",
   "language": "python",
   "name": "python3"
  },
  "language_info": {
   "codemirror_mode": {
    "name": "ipython",
    "version": 3
   },
   "file_extension": ".py",
   "mimetype": "text/x-python",
   "name": "python",
   "nbconvert_exporter": "python",
   "pygments_lexer": "ipython3",
   "version": "3.7.6"
  }
 },
 "nbformat": 4,
 "nbformat_minor": 4
}
